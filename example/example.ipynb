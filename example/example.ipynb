{
 "cells": [
  {
   "cell_type": "code",
   "execution_count": 1,
   "metadata": {},
   "outputs": [],
   "source": [
    "from comer.datamodule import vocab\n",
    "from comer.lit_comer import LitCoMER\n",
    "from torchvision.transforms import ToTensor\n",
    "import torch\n",
    "from PIL import Image\n",
    "from IPython.display import display"
   ]
  },
  {
   "cell_type": "code",
   "execution_count": 2,
   "metadata": {},
   "outputs": [],
   "source": [
    "ckpt = '../lightning_logs/version_0/checkpoints/epoch=151-step=57151-val_ExpRate=0.6365.ckpt'"
   ]
  },
  {
   "cell_type": "code",
   "execution_count": 3,
   "metadata": {},
   "outputs": [],
   "source": [
    "model = LitCoMER.load_from_checkpoint(ckpt)\n",
    "model = model.eval()\n",
    "device = torch.device(\"cpu\")\n",
    "model = model.to(device)"
   ]
  },
  {
   "cell_type": "code",
   "execution_count": 4,
   "metadata": {},
   "outputs": [
    {
     "data": {
      "image/png": "[encoded data removed]",
      "text/plain": [
       "<PIL.BmpImagePlugin.BmpImageFile image mode=L size=249x144 at 0x7F0B98044250>"
      ]
     },
     "metadata": {},
     "output_type": "display_data"
    }
   ],
   "source": [
    "img = Image.open('UN19_1041_em_595.bmp')\n",
    "display(img)"
   ]
  },
  {
   "cell_type": "code",
   "execution_count": 5,
   "metadata": {},
   "outputs": [],
   "source": [
    "img = ToTensor()(img)\n",
    "mask = torch.zeros_like(img, dtype=torch.bool)\n",
    "hyp = model.approximate_joint_search(img.unsqueeze(0), mask)[0]\n",
    "pred_latex = vocab.indices2label(hyp.seq)"
   ]
  },
  {
   "cell_type": "code",
   "execution_count": 6,
   "metadata": {},
   "outputs": [
    {
     "name": "stdout",
     "output_type": "stream",
     "text": [
      "x ^ { 2 } = \\sum \\limits _ { a = 1 } ^ { 3 } x _ { a } ^ { 2 }\n"
     ]
    }
   ],
   "source": [
    "print(pred_latex)"
   ]
  }
 ],
 "metadata": {
  "interpreter": {
   "hash": "45d2f7d923c3019b103888df379576d885b22cd130f1a2056b8ecb4c6b8d3acc"
  },
  "kernelspec": {
   "display_name": "Python 3.7.11 64-bit ('bttr': conda)",
   "name": "python3"
  },
  "language_info": {
   "codemirror_mode": {
    "name": "ipython",
    "version": 3
   },
   "file_extension": ".py",
   "mimetype": "text/x-python",
   "name": "python",
   "nbconvert_exporter": "python",
   "pygments_lexer": "ipython3",
   "version": "3.7.11"
  },
  "orig_nbformat": 4
 },
 "nbformat": 4,
 "nbformat_minor": 2
}
